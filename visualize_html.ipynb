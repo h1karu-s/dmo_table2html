{
 "cells": [
  {
   "cell_type": "code",
   "execution_count": 64,
   "metadata": {},
   "outputs": [
    {
     "name": "stderr",
     "output_type": "stream",
     "text": [
      "/tmp/ipykernel_2602697/1750484286.py:3: DeprecationWarning: Importing display from IPython.core.display is deprecated since IPython 7.14, please import from IPython display\n",
      "  from IPython.core.display import display, HTML\n"
     ]
    }
   ],
   "source": [
    "import os\n",
    "from bs4 import BeautifulSoup as bs\n",
    "from IPython.core.display import display, HTML\n",
    "\n",
    "def format_html(html_code):\n",
    "    ''' Formats HTML code from tokenized annotation of img\n",
    "    '''\n",
    "    html_code = '''<html>\n",
    "                   <head>\n",
    "                   <meta charset=\"UTF-8\">\n",
    "                   <style>\n",
    "                   table, th, td {\n",
    "                     border: 1px solid black;\n",
    "                     font-size: 16px;\n",
    "                   }\n",
    "                   </style>\n",
    "                   </head>\n",
    "                   <body>\n",
    "                   <table frame=\"hsides\" rules=\"groups\" width=\"100%%\">\n",
    "                     %s\n",
    "                   </table>\n",
    "                   </body>\n",
    "                   </html>''' % html_code\n",
    "\n",
    "    # prettify the html\n",
    "    soup = bs(html_code)\n",
    "    html_code = soup.prettify()\n",
    "    return html_code"
   ]
  },
  {
   "cell_type": "code",
   "execution_count": 65,
   "metadata": {},
   "outputs": [],
   "source": [
    "input_dir = \"outputs/model_predictions\""
   ]
  },
  {
   "cell_type": "code",
   "execution_count": 66,
   "metadata": {},
   "outputs": [],
   "source": [
    "names = os.listdir(input_dir)"
   ]
  },
  {
   "cell_type": "code",
   "execution_count": 67,
   "metadata": {},
   "outputs": [],
   "source": [
    "num = 1\n",
    "with open(f\"{input_dir}/{names[num]}\", \"r\") as f:\n",
    "  html_txt = f.read()"
   ]
  },
  {
   "cell_type": "code",
   "execution_count": 68,
   "metadata": {},
   "outputs": [
    {
     "data": {
      "text/plain": [
       "'<table><thead><tr><td></td><td><b>120°</b></td><td><b>120°</b></td><td><b>140°</b></td></tr></thead><tbody><tr><td><b>precision (%)</b></td><td>72.92</td><td>65.96</td><td>47.92</td></tr><tr><td><b>recall (%)</b></td><td>85.37</td><td>96.88</td><td>100.00</td></tr><tr><td><b><i>f</i>-measure(%)</b></td><td>84.34</td><td>78.48</td><td>64.79</td></tr></tbody></table>'"
      ]
     },
     "execution_count": 68,
     "metadata": {},
     "output_type": "execute_result"
    }
   ],
   "source": [
    "html_txt"
   ]
  },
  {
   "cell_type": "code",
   "execution_count": 69,
   "metadata": {},
   "outputs": [
    {
     "data": {
      "text/html": [
       "<html>\n",
       " <head>\n",
       "  <meta charset=\"utf-8\"/>\n",
       "  <style>\n",
       "   table, th, td {\n",
       "                     border: 1px solid black;\n",
       "                     font-size: 16px;\n",
       "                   }\n",
       "  </style>\n",
       " </head>\n",
       " <body>\n",
       "  <table frame=\"hsides\" rules=\"groups\" width=\"100%\">\n",
       "   <table>\n",
       "    <thead>\n",
       "     <tr>\n",
       "      <td>\n",
       "      </td>\n",
       "      <td>\n",
       "       <b>\n",
       "        120°\n",
       "       </b>\n",
       "      </td>\n",
       "      <td>\n",
       "       <b>\n",
       "        120°\n",
       "       </b>\n",
       "      </td>\n",
       "      <td>\n",
       "       <b>\n",
       "        140°\n",
       "       </b>\n",
       "      </td>\n",
       "     </tr>\n",
       "    </thead>\n",
       "    <tbody>\n",
       "     <tr>\n",
       "      <td>\n",
       "       <b>\n",
       "        precision (%)\n",
       "       </b>\n",
       "      </td>\n",
       "      <td>\n",
       "       72.92\n",
       "      </td>\n",
       "      <td>\n",
       "       65.96\n",
       "      </td>\n",
       "      <td>\n",
       "       47.92\n",
       "      </td>\n",
       "     </tr>\n",
       "     <tr>\n",
       "      <td>\n",
       "       <b>\n",
       "        recall (%)\n",
       "       </b>\n",
       "      </td>\n",
       "      <td>\n",
       "       85.37\n",
       "      </td>\n",
       "      <td>\n",
       "       96.88\n",
       "      </td>\n",
       "      <td>\n",
       "       100.00\n",
       "      </td>\n",
       "     </tr>\n",
       "     <tr>\n",
       "      <td>\n",
       "       <b>\n",
       "        <i>\n",
       "         f\n",
       "        </i>\n",
       "        -measure(%)\n",
       "       </b>\n",
       "      </td>\n",
       "      <td>\n",
       "       84.34\n",
       "      </td>\n",
       "      <td>\n",
       "       78.48\n",
       "      </td>\n",
       "      <td>\n",
       "       64.79\n",
       "      </td>\n",
       "     </tr>\n",
       "    </tbody>\n",
       "   </table>\n",
       "  </table>\n",
       " </body>\n",
       "</html>"
      ],
      "text/plain": [
       "<IPython.core.display.HTML object>"
      ]
     },
     "execution_count": 69,
     "metadata": {},
     "output_type": "execute_result"
    }
   ],
   "source": [
    "HTML(format_html(html_txt))"
   ]
  },
  {
   "cell_type": "code",
   "execution_count": null,
   "metadata": {},
   "outputs": [],
   "source": []
  }
 ],
 "metadata": {
  "kernelspec": {
   "display_name": "exp_006",
   "language": "python",
   "name": "python3"
  },
  "language_info": {
   "codemirror_mode": {
    "name": "ipython",
    "version": 3
   },
   "file_extension": ".py",
   "mimetype": "text/x-python",
   "name": "python",
   "nbconvert_exporter": "python",
   "pygments_lexer": "ipython3",
   "version": "3.10.2"
  },
  "orig_nbformat": 4
 },
 "nbformat": 4,
 "nbformat_minor": 2
}
